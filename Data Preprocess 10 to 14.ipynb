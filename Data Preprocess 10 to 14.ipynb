{
 "cells": [
  {
   "cell_type": "code",
   "execution_count": 1,
   "metadata": {},
   "outputs": [],
   "source": [
    "import pandas as pd\n",
    "import numpy as np\n",
    "import requests\n",
    "import matplotlib.pyplot as plt\n",
    "import seaborn as sns\n",
    "import tmdbv3api as tm"
   ]
  },
  {
   "cell_type": "code",
   "execution_count": 2,
   "metadata": {},
   "outputs": [],
   "source": [
    "def fetch_id(data,api):\n",
    "    tmdb = tm.TMDb()\n",
    "    tmdb.api_key = api\n",
    "    movie = tm.Movie()\n",
    "    movie_id = {}\n",
    "    for movies in data[\"Title\"].values:\n",
    "        title = movies\n",
    "        try:\n",
    "            for i in range(1,501):\n",
    "                search = movie.search(title,page = i)\n",
    "                if (i == 1) and len(search) == 0:\n",
    "                    movie_id[title] = \"unknown\" \n",
    "                    break\n",
    "                if (len(search) == 0) and (title not in movie_id):\n",
    "                    movie_id[title] = \"unknown\"\n",
    "                    break\n",
    "                elif (len(search)==0):\n",
    "                    break\n",
    "                else:\n",
    "                    if (len(search)==1)and(title not in movie_id):\n",
    "                        movie_id[title] = search[0].id\n",
    "                        break\n",
    "                    else:\n",
    "                        for re in search:\n",
    "                            if title.lower() == re[\"title\"].lower():\n",
    "                                movie_id[title] = re.id\n",
    "                                break\n",
    "                            else:\n",
    "                                continue\n",
    "            else:         \n",
    "                movie_id[title] = \"unknown\" \n",
    "        except:\n",
    "            movie_id[title] = \"error\"        \n",
    "    return movie_id"
   ]
  },
  {
   "cell_type": "code",
   "execution_count": 3,
   "metadata": {},
   "outputs": [],
   "source": [
    "#year-10\n",
    "html = requests.get(\"https://en.wikipedia.org/wiki/List_of_Tamil_films_of_2010\").content\n",
    "data_10 = pd.read_html(html)"
   ]
  },
  {
   "cell_type": "code",
   "execution_count": 4,
   "metadata": {},
   "outputs": [
    {
     "data": {
      "text/plain": [
       "(143, 7)"
      ]
     },
     "execution_count": 4,
     "metadata": {},
     "output_type": "execute_result"
    }
   ],
   "source": [
    "data_10 = pd.concat(data_10[0:4])\n",
    "data_10.shape"
   ]
  },
  {
   "cell_type": "code",
   "execution_count": 5,
   "metadata": {},
   "outputs": [
    {
     "data": {
      "text/plain": [
       "(143, 3)"
      ]
     },
     "execution_count": 5,
     "metadata": {},
     "output_type": "execute_result"
    }
   ],
   "source": [
    "data_10_1 = data_10[[\"Title\",\"Director\",\"Cast\"]]\n",
    "data_10_1.shape"
   ]
  },
  {
   "cell_type": "code",
   "execution_count": 6,
   "metadata": {},
   "outputs": [],
   "source": [
    "ids_10 = fetch_id(data_10_1,api =\"72e7e0f7ee11ebdc1650e3fd64deb609\" )"
   ]
  },
  {
   "cell_type": "code",
   "execution_count": 28,
   "metadata": {},
   "outputs": [
    {
     "data": {
      "text/plain": [
       "143"
      ]
     },
     "execution_count": 28,
     "metadata": {},
     "output_type": "execute_result"
    }
   ],
   "source": [
    "len(ids_10)"
   ]
  },
  {
   "cell_type": "code",
   "execution_count": 7,
   "metadata": {},
   "outputs": [],
   "source": [
    "#year-11\n",
    "html = requests.get(\"https://en.wikipedia.org/wiki/List_of_Tamil_films_of_2011\").content\n",
    "data_11= pd.read_html(html)"
   ]
  },
  {
   "cell_type": "code",
   "execution_count": 8,
   "metadata": {},
   "outputs": [
    {
     "data": {
      "text/plain": [
       "(67, 8)"
      ]
     },
     "execution_count": 8,
     "metadata": {},
     "output_type": "execute_result"
    }
   ],
   "source": [
    "data_11 = data_11[1]\n",
    "data_11.shape"
   ]
  },
  {
   "cell_type": "code",
   "execution_count": 9,
   "metadata": {},
   "outputs": [
    {
     "data": {
      "text/plain": [
       "(67, 3)"
      ]
     },
     "execution_count": 9,
     "metadata": {},
     "output_type": "execute_result"
    }
   ],
   "source": [
    "data_11_1 = data_11[[\"Title\",\"Director\",\"Cast\"]]\n",
    "data_11_1.shape"
   ]
  },
  {
   "cell_type": "code",
   "execution_count": 10,
   "metadata": {},
   "outputs": [],
   "source": [
    "ids_11 = fetch_id(data_11_1,api =\"72e7e0f7ee11ebdc1650e3fd64deb609\" )"
   ]
  },
  {
   "cell_type": "code",
   "execution_count": 27,
   "metadata": {},
   "outputs": [
    {
     "data": {
      "text/plain": [
       "67"
      ]
     },
     "execution_count": 27,
     "metadata": {},
     "output_type": "execute_result"
    }
   ],
   "source": [
    "len(ids_11)"
   ]
  },
  {
   "cell_type": "code",
   "execution_count": 11,
   "metadata": {},
   "outputs": [],
   "source": [
    "#year-12\n",
    "html = requests.get(\"https://en.wikipedia.org/wiki/List_of_Tamil_films_of_2012\").content\n",
    "data_12= pd.read_html(html)"
   ]
  },
  {
   "cell_type": "code",
   "execution_count": 12,
   "metadata": {},
   "outputs": [
    {
     "data": {
      "text/plain": [
       "(144, 8)"
      ]
     },
     "execution_count": 12,
     "metadata": {},
     "output_type": "execute_result"
    }
   ],
   "source": [
    "data_12 = pd.concat(data_12[0:2])\n",
    "data_12.shape"
   ]
  },
  {
   "cell_type": "code",
   "execution_count": 13,
   "metadata": {},
   "outputs": [
    {
     "data": {
      "text/plain": [
       "(139, 3)"
      ]
     },
     "execution_count": 13,
     "metadata": {},
     "output_type": "execute_result"
    }
   ],
   "source": [
    "data_12_1 = data_12[[\"Title\",\"Director\",\"Cast\"]].dropna()\n",
    "data_12_1.shape"
   ]
  },
  {
   "cell_type": "code",
   "execution_count": 14,
   "metadata": {},
   "outputs": [],
   "source": [
    "ids_12 = fetch_id(data_12_1,api =\"72e7e0f7ee11ebdc1650e3fd64deb609\" )"
   ]
  },
  {
   "cell_type": "code",
   "execution_count": 26,
   "metadata": {},
   "outputs": [
    {
     "data": {
      "text/plain": [
       "139"
      ]
     },
     "execution_count": 26,
     "metadata": {},
     "output_type": "execute_result"
    }
   ],
   "source": [
    "len(ids_12)"
   ]
  },
  {
   "cell_type": "code",
   "execution_count": 15,
   "metadata": {},
   "outputs": [],
   "source": [
    "#year-13\n",
    "html = requests.get(\"https://en.wikipedia.org/wiki/List_of_Tamil_films_of_2013\").content\n",
    "data_13= pd.read_html(html)"
   ]
  },
  {
   "cell_type": "code",
   "execution_count": 16,
   "metadata": {},
   "outputs": [
    {
     "data": {
      "text/plain": [
       "(147, 8)"
      ]
     },
     "execution_count": 16,
     "metadata": {},
     "output_type": "execute_result"
    }
   ],
   "source": [
    "data_13 = pd.concat(data_13[0:4])\n",
    "data_13.shape"
   ]
  },
  {
   "cell_type": "code",
   "execution_count": 17,
   "metadata": {},
   "outputs": [
    {
     "data": {
      "text/plain": [
       "(139, 3)"
      ]
     },
     "execution_count": 17,
     "metadata": {},
     "output_type": "execute_result"
    }
   ],
   "source": [
    "data_13_1 = data_13[['Title',\"Director\",\"Cast\"]].dropna()\n",
    "data_13_1.shape"
   ]
  },
  {
   "cell_type": "code",
   "execution_count": 18,
   "metadata": {},
   "outputs": [],
   "source": [
    "ids_13 = fetch_id(data_13_1,api =\"72e7e0f7ee11ebdc1650e3fd64deb609\" )"
   ]
  },
  {
   "cell_type": "code",
   "execution_count": 25,
   "metadata": {},
   "outputs": [
    {
     "data": {
      "text/plain": [
       "139"
      ]
     },
     "execution_count": 25,
     "metadata": {},
     "output_type": "execute_result"
    }
   ],
   "source": [
    "len(ids_13)"
   ]
  },
  {
   "cell_type": "code",
   "execution_count": 19,
   "metadata": {},
   "outputs": [],
   "source": [
    "#year-14\n",
    "html = requests.get(\"https://en.wikipedia.org/wiki/List_of_Tamil_films_of_2014\").content\n",
    "data_14= pd.read_html(html)"
   ]
  },
  {
   "cell_type": "code",
   "execution_count": 20,
   "metadata": {},
   "outputs": [
    {
     "data": {
      "text/plain": [
       "(207, 9)"
      ]
     },
     "execution_count": 20,
     "metadata": {},
     "output_type": "execute_result"
    }
   ],
   "source": [
    "data_14 = pd.concat(data_14[2:4])\n",
    "data_14.shape"
   ]
  },
  {
   "cell_type": "code",
   "execution_count": 21,
   "metadata": {},
   "outputs": [
    {
     "data": {
      "text/plain": [
       "(203, 3)"
      ]
     },
     "execution_count": 21,
     "metadata": {},
     "output_type": "execute_result"
    }
   ],
   "source": [
    "data_14_1 = data_14[[\"Title\",\"Director\",\"Cast\"]].dropna()\n",
    "data_14_1.shape"
   ]
  },
  {
   "cell_type": "code",
   "execution_count": 22,
   "metadata": {},
   "outputs": [],
   "source": [
    "ids_14 = fetch_id(data_14_1,api =\"72e7e0f7ee11ebdc1650e3fd64deb609\" )"
   ]
  },
  {
   "cell_type": "code",
   "execution_count": 111,
   "metadata": {},
   "outputs": [],
   "source": [
    "def merge_data(data,ids):\n",
    "    data_ids = []\n",
    "    for i,z in zip(data,ids):\n",
    "        i = i.copy()\n",
    "        i['TMDB_id'] = z.values()\n",
    "        data_ids.append(i)\n",
    "    new = pd.concat(data_ids)\n",
    "    return new"
   ]
  },
  {
   "cell_type": "code",
   "execution_count": 112,
   "metadata": {
    "scrolled": false
   },
   "outputs": [],
   "source": [
    "movies = merge_data([data_10_1,data_11_1,data_12_1,data_13_1,data_14_1],[ids_10,ids_11,ids_12,ids_13,ids_14])"
   ]
  },
  {
   "cell_type": "code",
   "execution_count": 140,
   "metadata": {},
   "outputs": [],
   "source": [
    "movies_1 = movies.dropna()"
   ]
  },
  {
   "cell_type": "markdown",
   "metadata": {},
   "source": [
    "### Cleaning Data"
   ]
  },
  {
   "cell_type": "code",
   "execution_count": 141,
   "metadata": {
    "scrolled": true
   },
   "outputs": [
    {
     "data": {
      "text/plain": [
       "unknown     True\n",
       "170663      True\n",
       "251635      True\n",
       "264998      True\n",
       "280944     False\n",
       "           ...  \n",
       "267726     False\n",
       "55795      False\n",
       "51867      False\n",
       "180682     False\n",
       "78848      False\n",
       "Name: TMDB_id, Length: 483, dtype: bool"
      ]
     },
     "execution_count": 141,
     "metadata": {},
     "output_type": "execute_result"
    }
   ],
   "source": [
    "movies_1[\"TMDB_id\"].value_counts()>1# id should be unique"
   ]
  },
  {
   "cell_type": "code",
   "execution_count": 142,
   "metadata": {},
   "outputs": [],
   "source": [
    "movies_1.reset_index(drop = True,inplace=True)"
   ]
  },
  {
   "cell_type": "code",
   "execution_count": 143,
   "metadata": {
    "scrolled": false
   },
   "outputs": [
    {
     "data": {
      "text/html": [
       "<div>\n",
       "<style scoped>\n",
       "    .dataframe tbody tr th:only-of-type {\n",
       "        vertical-align: middle;\n",
       "    }\n",
       "\n",
       "    .dataframe tbody tr th {\n",
       "        vertical-align: top;\n",
       "    }\n",
       "\n",
       "    .dataframe thead th {\n",
       "        text-align: right;\n",
       "    }\n",
       "</style>\n",
       "<table border=\"1\" class=\"dataframe\">\n",
       "  <thead>\n",
       "    <tr style=\"text-align: right;\">\n",
       "      <th></th>\n",
       "      <th>Title</th>\n",
       "      <th>Director</th>\n",
       "      <th>Cast</th>\n",
       "      <th>TMDB_id</th>\n",
       "    </tr>\n",
       "  </thead>\n",
       "  <tbody>\n",
       "    <tr>\n",
       "      <th>171</th>\n",
       "      <td>Aduthathu</td>\n",
       "      <td>Thakkaali Srinivasan</td>\n",
       "      <td>Sriman, Meenal, Ilavarasu, Nassar</td>\n",
       "      <td>170663</td>\n",
       "    </tr>\n",
       "    <tr>\n",
       "      <th>247</th>\n",
       "      <td>Aduthathu</td>\n",
       "      <td>Thakkaali Srinivasan</td>\n",
       "      <td>Sriman, Meenal, Darshini, Nassar</td>\n",
       "      <td>170663</td>\n",
       "    </tr>\n",
       "  </tbody>\n",
       "</table>\n",
       "</div>"
      ],
      "text/plain": [
       "         Title              Director                               Cast  \\\n",
       "171  Aduthathu  Thakkaali Srinivasan  Sriman, Meenal, Ilavarasu, Nassar   \n",
       "247  Aduthathu  Thakkaali Srinivasan   Sriman, Meenal, Darshini, Nassar   \n",
       "\n",
       "    TMDB_id  \n",
       "171  170663  \n",
       "247  170663  "
      ]
     },
     "execution_count": 143,
     "metadata": {},
     "output_type": "execute_result"
    }
   ],
   "source": [
    "movies_1[movies_1[\"TMDB_id\"] == 170663]"
   ]
  },
  {
   "cell_type": "code",
   "execution_count": 144,
   "metadata": {
    "scrolled": false
   },
   "outputs": [
    {
     "name": "stderr",
     "output_type": "stream",
     "text": [
      "D:\\anaconda\\lib\\site-packages\\pandas\\core\\frame.py:4163: SettingWithCopyWarning: \n",
      "A value is trying to be set on a copy of a slice from a DataFrame\n",
      "\n",
      "See the caveats in the documentation: https://pandas.pydata.org/pandas-docs/stable/user_guide/indexing.html#returning-a-view-versus-a-copy\n",
      "  return super().drop(\n"
     ]
    }
   ],
   "source": [
    "movies_1.drop(index=247,inplace=True)"
   ]
  },
  {
   "cell_type": "code",
   "execution_count": 145,
   "metadata": {},
   "outputs": [
    {
     "data": {
      "text/html": [
       "<div>\n",
       "<style scoped>\n",
       "    .dataframe tbody tr th:only-of-type {\n",
       "        vertical-align: middle;\n",
       "    }\n",
       "\n",
       "    .dataframe tbody tr th {\n",
       "        vertical-align: top;\n",
       "    }\n",
       "\n",
       "    .dataframe thead th {\n",
       "        text-align: right;\n",
       "    }\n",
       "</style>\n",
       "<table border=\"1\" class=\"dataframe\">\n",
       "  <thead>\n",
       "    <tr style=\"text-align: right;\">\n",
       "      <th></th>\n",
       "      <th>Title</th>\n",
       "      <th>Director</th>\n",
       "      <th>Cast</th>\n",
       "      <th>TMDB_id</th>\n",
       "    </tr>\n",
       "  </thead>\n",
       "  <tbody>\n",
       "    <tr>\n",
       "      <th>285</th>\n",
       "      <td>Palayamkottai</td>\n",
       "      <td>G. Shekar</td>\n",
       "      <td>G. Shekar, Inbanila, Bose Venkat</td>\n",
       "      <td>251635</td>\n",
       "    </tr>\n",
       "    <tr>\n",
       "      <th>492</th>\n",
       "      <td>Malini 22 Palayamkottai</td>\n",
       "      <td>Sripriya</td>\n",
       "      <td>Nithya Menen, Krish J. Sathaar</td>\n",
       "      <td>251635</td>\n",
       "    </tr>\n",
       "  </tbody>\n",
       "</table>\n",
       "</div>"
      ],
      "text/plain": [
       "                       Title   Director                              Cast  \\\n",
       "285            Palayamkottai  G. Shekar  G. Shekar, Inbanila, Bose Venkat   \n",
       "492  Malini 22 Palayamkottai   Sripriya    Nithya Menen, Krish J. Sathaar   \n",
       "\n",
       "    TMDB_id  \n",
       "285  251635  \n",
       "492  251635  "
      ]
     },
     "execution_count": 145,
     "metadata": {},
     "output_type": "execute_result"
    }
   ],
   "source": [
    "movies_1[movies_1[\"TMDB_id\"] ==251635 ]"
   ]
  },
  {
   "cell_type": "code",
   "execution_count": 146,
   "metadata": {},
   "outputs": [
    {
     "name": "stderr",
     "output_type": "stream",
     "text": [
      "D:\\anaconda\\lib\\site-packages\\pandas\\core\\frame.py:4163: SettingWithCopyWarning: \n",
      "A value is trying to be set on a copy of a slice from a DataFrame\n",
      "\n",
      "See the caveats in the documentation: https://pandas.pydata.org/pandas-docs/stable/user_guide/indexing.html#returning-a-view-versus-a-copy\n",
      "  return super().drop(\n"
     ]
    }
   ],
   "source": [
    "movies_1.drop(index=285,inplace=True)"
   ]
  },
  {
   "cell_type": "code",
   "execution_count": 147,
   "metadata": {},
   "outputs": [
    {
     "data": {
      "text/html": [
       "<div>\n",
       "<style scoped>\n",
       "    .dataframe tbody tr th:only-of-type {\n",
       "        vertical-align: middle;\n",
       "    }\n",
       "\n",
       "    .dataframe tbody tr th {\n",
       "        vertical-align: top;\n",
       "    }\n",
       "\n",
       "    .dataframe thead th {\n",
       "        text-align: right;\n",
       "    }\n",
       "</style>\n",
       "<table border=\"1\" class=\"dataframe\">\n",
       "  <thead>\n",
       "    <tr style=\"text-align: right;\">\n",
       "      <th></th>\n",
       "      <th>Title</th>\n",
       "      <th>Director</th>\n",
       "      <th>Cast</th>\n",
       "      <th>TMDB_id</th>\n",
       "    </tr>\n",
       "  </thead>\n",
       "  <tbody>\n",
       "    <tr>\n",
       "      <th>107</th>\n",
       "      <td>Mattuthavani</td>\n",
       "      <td>Pavithran</td>\n",
       "      <td>Ramkiran, Menaka, Meetha</td>\n",
       "      <td>264998</td>\n",
       "    </tr>\n",
       "    <tr>\n",
       "      <th>248</th>\n",
       "      <td>Mattuthavani</td>\n",
       "      <td>Pavithran</td>\n",
       "      <td>Vimal, Soori</td>\n",
       "      <td>264998</td>\n",
       "    </tr>\n",
       "  </tbody>\n",
       "</table>\n",
       "</div>"
      ],
      "text/plain": [
       "            Title   Director                      Cast TMDB_id\n",
       "107  Mattuthavani  Pavithran  Ramkiran, Menaka, Meetha  264998\n",
       "248  Mattuthavani  Pavithran              Vimal, Soori  264998"
      ]
     },
     "execution_count": 147,
     "metadata": {},
     "output_type": "execute_result"
    }
   ],
   "source": [
    "movies_1[movies_1[\"TMDB_id\"] ==264998]"
   ]
  },
  {
   "cell_type": "code",
   "execution_count": 148,
   "metadata": {},
   "outputs": [
    {
     "name": "stderr",
     "output_type": "stream",
     "text": [
      "D:\\anaconda\\lib\\site-packages\\pandas\\core\\frame.py:4163: SettingWithCopyWarning: \n",
      "A value is trying to be set on a copy of a slice from a DataFrame\n",
      "\n",
      "See the caveats in the documentation: https://pandas.pydata.org/pandas-docs/stable/user_guide/indexing.html#returning-a-view-versus-a-copy\n",
      "  return super().drop(\n"
     ]
    }
   ],
   "source": [
    "movies_1.drop(index=248,inplace=True)"
   ]
  },
  {
   "cell_type": "code",
   "execution_count": 149,
   "metadata": {},
   "outputs": [
    {
     "data": {
      "text/html": [
       "<div>\n",
       "<style scoped>\n",
       "    .dataframe tbody tr th:only-of-type {\n",
       "        vertical-align: middle;\n",
       "    }\n",
       "\n",
       "    .dataframe tbody tr th {\n",
       "        vertical-align: top;\n",
       "    }\n",
       "\n",
       "    .dataframe thead th {\n",
       "        text-align: right;\n",
       "    }\n",
       "</style>\n",
       "<table border=\"1\" class=\"dataframe\">\n",
       "  <thead>\n",
       "    <tr style=\"text-align: right;\">\n",
       "      <th></th>\n",
       "      <th>Title</th>\n",
       "      <th>Director</th>\n",
       "      <th>Cast</th>\n",
       "      <th>TMDB_id</th>\n",
       "    </tr>\n",
       "  </thead>\n",
       "  <tbody>\n",
       "    <tr>\n",
       "      <th>0</th>\n",
       "      <td>Pugaippadam</td>\n",
       "      <td>Rajesh Lingam</td>\n",
       "      <td>Amjad, Priya Anand, Harish</td>\n",
       "      <td>112113</td>\n",
       "    </tr>\n",
       "    <tr>\n",
       "      <th>1</th>\n",
       "      <td>Thunichal</td>\n",
       "      <td>Majith</td>\n",
       "      <td>Arun Vijay, Swathika, Shiva Munjal, Ramana</td>\n",
       "      <td>112316</td>\n",
       "    </tr>\n",
       "    <tr>\n",
       "      <th>2</th>\n",
       "      <td>Kalasaaram</td>\n",
       "      <td>Kutty Radha</td>\n",
       "      <td>Satish, Yathra</td>\n",
       "      <td>unknown</td>\n",
       "    </tr>\n",
       "    <tr>\n",
       "      <th>3</th>\n",
       "      <td>Aayirathil Oruvan</td>\n",
       "      <td>Selvaraghavan</td>\n",
       "      <td>Karthi Sivakumar, Reemma Sen, Andrea Jeremiah,...</td>\n",
       "      <td>69597</td>\n",
       "    </tr>\n",
       "    <tr>\n",
       "      <th>4</th>\n",
       "      <td>Kutty</td>\n",
       "      <td>M. Jawahar</td>\n",
       "      <td>Dhanush, Shriya Saran, Sameer Dattani</td>\n",
       "      <td>445329</td>\n",
       "    </tr>\n",
       "    <tr>\n",
       "      <th>...</th>\n",
       "      <td>...</td>\n",
       "      <td>...</td>\n",
       "      <td>...</td>\n",
       "      <td>...</td>\n",
       "    </tr>\n",
       "    <tr>\n",
       "      <th>678</th>\n",
       "      <td>Kappal</td>\n",
       "      <td>Karthik Krish</td>\n",
       "      <td>Vaibhav, Sonam Bajwa, Karunakaran</td>\n",
       "      <td>311152</td>\n",
       "    </tr>\n",
       "    <tr>\n",
       "      <th>679</th>\n",
       "      <td>Kayal</td>\n",
       "      <td>Prabhu Solomon</td>\n",
       "      <td>Chandran, Anandhi, Vincent</td>\n",
       "      <td>307000</td>\n",
       "    </tr>\n",
       "    <tr>\n",
       "      <th>680</th>\n",
       "      <td>Meaghamann</td>\n",
       "      <td>Magizh Thirumeni</td>\n",
       "      <td>Arya, Hansika Motwani, Sudhanshu Pandey</td>\n",
       "      <td>264041</td>\n",
       "    </tr>\n",
       "    <tr>\n",
       "      <th>681</th>\n",
       "      <td>Vellaikaara Durai</td>\n",
       "      <td>Ezhil</td>\n",
       "      <td>Vikram Prabhu, Sri Divya</td>\n",
       "      <td>280145</td>\n",
       "    </tr>\n",
       "    <tr>\n",
       "      <th>682</th>\n",
       "      <td>Pesadha Padam</td>\n",
       "      <td>Aadhavan</td>\n",
       "      <td>Abirooban, Bharathi</td>\n",
       "      <td>unknown</td>\n",
       "    </tr>\n",
       "  </tbody>\n",
       "</table>\n",
       "<p>680 rows × 4 columns</p>\n",
       "</div>"
      ],
      "text/plain": [
       "                 Title          Director  \\\n",
       "0          Pugaippadam     Rajesh Lingam   \n",
       "1            Thunichal            Majith   \n",
       "2           Kalasaaram       Kutty Radha   \n",
       "3    Aayirathil Oruvan     Selvaraghavan   \n",
       "4                Kutty        M. Jawahar   \n",
       "..                 ...               ...   \n",
       "678             Kappal     Karthik Krish   \n",
       "679              Kayal    Prabhu Solomon   \n",
       "680         Meaghamann  Magizh Thirumeni   \n",
       "681  Vellaikaara Durai             Ezhil   \n",
       "682      Pesadha Padam          Aadhavan   \n",
       "\n",
       "                                                  Cast  TMDB_id  \n",
       "0                           Amjad, Priya Anand, Harish   112113  \n",
       "1           Arun Vijay, Swathika, Shiva Munjal, Ramana   112316  \n",
       "2                                       Satish, Yathra  unknown  \n",
       "3    Karthi Sivakumar, Reemma Sen, Andrea Jeremiah,...    69597  \n",
       "4                Dhanush, Shriya Saran, Sameer Dattani   445329  \n",
       "..                                                 ...      ...  \n",
       "678                  Vaibhav, Sonam Bajwa, Karunakaran   311152  \n",
       "679                         Chandran, Anandhi, Vincent   307000  \n",
       "680            Arya, Hansika Motwani, Sudhanshu Pandey   264041  \n",
       "681                           Vikram Prabhu, Sri Divya   280145  \n",
       "682                                Abirooban, Bharathi  unknown  \n",
       "\n",
       "[680 rows x 4 columns]"
      ]
     },
     "execution_count": 149,
     "metadata": {},
     "output_type": "execute_result"
    }
   ],
   "source": [
    "movies_1"
   ]
  },
  {
   "cell_type": "code",
   "execution_count": 150,
   "metadata": {},
   "outputs": [],
   "source": [
    "movies_1.to_csv(\"data_10_14.csv\")"
   ]
  },
  {
   "cell_type": "code",
   "execution_count": 151,
   "metadata": {},
   "outputs": [],
   "source": [
    "def get_overview_genre(data) :\n",
    "    overview = []\n",
    "    genre = []\n",
    "    for id in data['TMDB_id'].values:\n",
    "        if type(id) == int:\n",
    "            rep = requests.get(\"https://api.themoviedb.org/3/movie/{}?api_key=72e7e0f7ee11ebdc1650e3fd64deb609\".format(id))\n",
    "            overview.append(rep.json()[\"overview\"])\n",
    "            p = []\n",
    "            for i in range(len(rep.json()['genres'])):\n",
    "                p.append(rep.json()['genres'][i][\"name\"])\n",
    "            genre.append(\" \".join(p))\n",
    "        else:\n",
    "            overview.append(\"unknown\")\n",
    "            genre.append(\"unknown\")\n",
    "    return overview,genre"
   ]
  },
  {
   "cell_type": "code",
   "execution_count": 125,
   "metadata": {},
   "outputs": [],
   "source": [
    "over,genre = get_overview_genre(movies_1)"
   ]
  },
  {
   "cell_type": "code",
   "execution_count": 152,
   "metadata": {},
   "outputs": [],
   "source": [
    "movies_1=movies_1.copy()"
   ]
  },
  {
   "cell_type": "code",
   "execution_count": 153,
   "metadata": {},
   "outputs": [],
   "source": [
    "movies_1[\"overview\"] = over"
   ]
  },
  {
   "cell_type": "code",
   "execution_count": 154,
   "metadata": {},
   "outputs": [],
   "source": [
    "movies_1['genre'] = genre"
   ]
  },
  {
   "cell_type": "code",
   "execution_count": 155,
   "metadata": {},
   "outputs": [],
   "source": [
    "movies_1['actorname_1'] = movies_1['Cast'].apply(lambda x: x.split(\",\")[0])"
   ]
  },
  {
   "cell_type": "code",
   "execution_count": 156,
   "metadata": {},
   "outputs": [],
   "source": [
    "def act1(x):\n",
    "    if len(x.split(\",\"))>1:\n",
    "        return x.split(\",\")[1]\n",
    "    else:\n",
    "        return \"unknown\"\n",
    "def act2(x):\n",
    "    if len(x.split(\",\"))>2:\n",
    "        return x.split(\",\")[2]\n",
    "    else:\n",
    "        return \"unknown\""
   ]
  },
  {
   "cell_type": "code",
   "execution_count": 157,
   "metadata": {},
   "outputs": [],
   "source": [
    "movies_1['actorname_2'] = movies_1['Cast'].apply(lambda x:act1(x))\n",
    "movies_1['actorname_3'] = movies_1['Cast'].apply(lambda x:act2(x)) "
   ]
  },
  {
   "cell_type": "code",
   "execution_count": 160,
   "metadata": {},
   "outputs": [],
   "source": [
    "movies_1[\"tag_all\"] = movies_1[\"overview\"]+\" \"+movies_1[\"genre\"]+\" \"+movies_1[\"Director\"]+\" \"+movies_1[\"actorname_1\"]+\" \"+movies_1[\"actorname_2\"]+\" \"+movies_1[\"actorname_3\"]"
   ]
  },
  {
   "cell_type": "code",
   "execution_count": 166,
   "metadata": {},
   "outputs": [],
   "source": [
    "movies_1[\"tag_1\"] =movies_1[\"genre\"]+\" \"+movies_1[\"Director\"]+\" \"+movies_1[\"actorname_1\"]+\" \"+movies_1[\"actorname_2\"]+\" \" +movies_1[\"overview\"]"
   ]
  },
  {
   "cell_type": "code",
   "execution_count": 167,
   "metadata": {},
   "outputs": [],
   "source": [
    "movies_1[\"tag_2\"] = movies_1[\"genre\"]+\" \"+movies_1[\"Director\"]+\" \"+movies_1[\"actorname_1\"]+\" \"+movies_1[\"actorname_2\"]"
   ]
  },
  {
   "cell_type": "code",
   "execution_count": 168,
   "metadata": {},
   "outputs": [],
   "source": [
    "movies_1.to_csv(\"final_10_14.csv\")"
   ]
  },
  {
   "cell_type": "code",
   "execution_count": null,
   "metadata": {},
   "outputs": [],
   "source": []
  }
 ],
 "metadata": {
  "kernelspec": {
   "display_name": "Python 3",
   "language": "python",
   "name": "python3"
  },
  "language_info": {
   "codemirror_mode": {
    "name": "ipython",
    "version": 3
   },
   "file_extension": ".py",
   "mimetype": "text/x-python",
   "name": "python",
   "nbconvert_exporter": "python",
   "pygments_lexer": "ipython3",
   "version": "3.8.5"
  }
 },
 "nbformat": 4,
 "nbformat_minor": 4
}
